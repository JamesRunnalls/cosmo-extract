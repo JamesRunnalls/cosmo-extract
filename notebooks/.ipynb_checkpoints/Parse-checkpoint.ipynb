{
 "cells": [
  {
   "cell_type": "code",
   "execution_count": 2,
   "id": "ranking-duration",
   "metadata": {},
   "outputs": [],
   "source": [
    "import os\n",
    "from time import mktime\n",
    "import matplotlib.pyplot as plt\n",
    "import numpy as np\n",
    "import pandas as pd\n",
    "import netCDF4\n",
    "from datetime import datetime,timedelta"
   ]
  },
  {
   "cell_type": "code",
   "execution_count": 3,
   "id": "measured-textbook",
   "metadata": {},
   "outputs": [
    {
     "data": {
      "text/plain": [
       "['COSMOE', 'COSMO1']"
      ]
     },
     "execution_count": 3,
     "metadata": {},
     "output_type": "execute_result"
    }
   ],
   "source": [
    "os.listdir(\"../data\")"
   ]
  },
  {
   "cell_type": "code",
   "execution_count": 11,
   "id": "incoming-office",
   "metadata": {},
   "outputs": [],
   "source": [
    "folder = \"../data/COSMO1\"\n",
    "files = os.listdir(folder)\n",
    "files.sort()\n",
    "points = {\n",
    " \"Inkwilersee\":[47.197, 7.674],\n",
    " \"Geistsee\":[46.763, 7.533],\n",
    " \"Lenkerseeli\":[46.451, 7.445],\n",
    " \"Stockseewli\":[46.598, 8.326],\n",
    " \"Meiefallseeli\":[46.584, 7.584],\n",
    " \"Oberes Banzlauiseeli\":[46.687, 8.280],\n",
    " \"Atzenholzerweiher\":[47.498, 9.334],\n",
    " \"Bildweiher\":[47.408, 9.305],\n",
    " \"Eselschwanzweiher\":[47.469, 9.615],\n",
    " \"Grappelensee\":[47.208, 9.279],\n",
    " \"Stadtweiher Wil\":[47.466, 9.053],\n",
    " \"Voralpsee\":[47.158, 9.382],\n",
    " \"Lake Sempach\":[47.145, 8.162],\n",
    " \"Agerisee\":[47.122, 8.618],\n",
    " \"Lake Sarnen\":[46.866, 8.215],\n",
    " \"Lake Murten\":[46.933, 7.085],\n",
    "}\n",
    "params = [\"time\", \"T_2M\", \"U\", \"V\", \"GLOB\", \"RELHUM_2M\", \"TOT_PREC\", \"LW_IN_TG\"]\n",
    "output = {}\n",
    "for key, value in points.items():\n",
    "    output[key] = {}\n",
    "    for p in params:\n",
    "        output[key][p] = []\n",
    "for file in files:\n",
    "    nc = netCDF4.Dataset(os.path.join(folder, file),mode='r',format='NETCDF4_CLASSIC')\n",
    "    lat = np.array(nc.variables[\"lat_1\"])\n",
    "    lon = np.array(nc.variables[\"lon_1\"])\n",
    "    \n",
    "    timeunits = nc.variables[\"time\"].units.split(\" \")\n",
    "    starttime = datetime.strptime(timeunits[-2]+timeunits[-1], \"%Y-%m-%d%H:%M:%S\")\n",
    "    time = np.array(nc.variables[\"time\"])\n",
    "    time = np.array([starttime + timedelta(hours = t) for t in time])\n",
    "    time = np.array([mktime(t.timetuple()) for t in time])\n",
    "    \n",
    "    for key, value in points.items():    \n",
    "        diff = ((lat - value[0])**2 + (lon - value[1])**2)**0.5\n",
    "        loc = np.argwhere(diff == np.min(diff))[0]        \n",
    "        output[key][\"time\"] = output[key][\"time\"] + list(time) \n",
    "        for p in params:\n",
    "            if p != \"time\":\n",
    "                if len(nc.variables[p].dimensions) == 3:\n",
    "                    \n",
    "                    data = nc.variables[p][:, loc[0], loc[1]]\n",
    "                elif len(nc.variables[p].dimensions) == 4:\n",
    "                    data = nc.variables[p][:, 0, loc[0], loc[1]]\n",
    "                if p == \"T_2M\":\n",
    "                    data = data - 273.15\n",
    "                output[key][p] = output[key][p] + list(data)\n",
    "    nc.close()\n",
    "        "
   ]
  },
  {
   "cell_type": "code",
   "execution_count": 10,
   "id": "dress-collar",
   "metadata": {},
   "outputs": [
    {
     "data": {
      "text/plain": [
       "{'Inkwilersee': array([204, 234]),\n",
       " 'Geistsee': array([161, 223]),\n",
       " 'Lenkerseeli': array([130, 216]),\n",
       " 'Stockseewli': array([143, 277]),\n",
       " 'Meiefallseeli': array([143, 226]),\n",
       " 'Oberes Banzlauiseeli': array([152, 274]),\n",
       " 'Atzenholzerweiher': array([232, 347]),\n",
       " 'Bildweiher': array([223, 345]),\n",
       " 'Eselschwanzweiher': array([229, 366]),\n",
       " 'Grappelensee': array([203, 343]),\n",
       " 'Stadtweiher Wil': array([229, 328]),\n",
       " 'Voralpsee': array([198, 350]),\n",
       " 'Lake Sempach': array([198, 267]),\n",
       " 'Agerisee': array([195, 298]),\n",
       " 'Lake Sarnen': array([170, 270]),\n",
       " 'Lake Murten': array([179, 193])}"
      ]
     },
     "execution_count": 10,
     "metadata": {},
     "output_type": "execute_result"
    }
   ],
   "source": [
    "points_index"
   ]
  },
  {
   "cell_type": "code",
   "execution_count": 9,
   "id": "inside-ridge",
   "metadata": {},
   "outputs": [],
   "source": [
    "lat = np.array(nc.variables[\"lat_1\"])\n",
    "lon = np.array(nc.variables[\"lon_1\"])\n",
    "diff = ((lat - latlng[0])**2 + (lon - latlng[1])**2)**0.5\n",
    "loc = np.argwhere(diff == np.min(diff))[0]"
   ]
  },
  {
   "cell_type": "code",
   "execution_count": 10,
   "id": "subjective-measurement",
   "metadata": {},
   "outputs": [],
   "source": [
    "timeunits = nc.variables[\"time\"].units.split(\" \")\n",
    "starttime = datetime.strptime(timeunits[-2]+timeunits[-1], \"%Y-%m-%d%H:%M:%S\")\n",
    "time = np.array(nc.variables[\"time\"])\n",
    "time = np.array([starttime + timedelta(hours = t) for t in time])\n",
    "time = np.array([mktime(t.timetuple()) for t in time])"
   ]
  },
  {
   "cell_type": "code",
   "execution_count": 11,
   "id": "hydraulic-schedule",
   "metadata": {},
   "outputs": [],
   "source": [
    "for p in params:\n",
    "    if len(nc.variables[p].dimensions) == 3:\n",
    "        data = nc.variables[p][:, loc[0], loc[1]]\n",
    "    elif len(nc.variables[p].dimensions) == 4:\n",
    "        data = nc.variables[p][:, 0, loc[0], loc[1]]\n",
    "    if p == \"T_2M\":\n",
    "        data = data - 273.15"
   ]
  },
  {
   "cell_type": "code",
   "execution_count": 12,
   "id": "romance-fleet",
   "metadata": {},
   "outputs": [
    {
     "data": {
      "text/plain": [
       "array([1.5699672e+09, 1.5699708e+09, 1.5699744e+09, 1.5699780e+09,\n",
       "       1.5699816e+09, 1.5699852e+09, 1.5699888e+09, 1.5699924e+09,\n",
       "       1.5699960e+09, 1.5699996e+09, 1.5700032e+09, 1.5700068e+09,\n",
       "       1.5700104e+09, 1.5700140e+09, 1.5700176e+09, 1.5700212e+09,\n",
       "       1.5700248e+09, 1.5700284e+09, 1.5700320e+09, 1.5700356e+09,\n",
       "       1.5700392e+09, 1.5700428e+09, 1.5700464e+09, 1.5700500e+09])"
      ]
     },
     "execution_count": 12,
     "metadata": {},
     "output_type": "execute_result"
    }
   ],
   "source": [
    "time"
   ]
  },
  {
   "cell_type": "code",
   "execution_count": 14,
   "id": "responsible-gauge",
   "metadata": {},
   "outputs": [
    {
     "data": {
      "text/plain": [
       "masked_array(data=[15.870758 , 16.329987 , 15.066315 , 15.576324 ,\n",
       "                   15.478668 , 15.350739 , 14.424225 , 14.215729 ,\n",
       "                   13.399567 , 14.557526 , 14.414703 , 15.059967 ,\n",
       "                   15.766998 , 15.258942 , 15.654938 , 15.357819 ,\n",
       "                   12.319    , 11.549469 , 11.365143 , 11.447174 ,\n",
       "                   11.592194 , 11.095856 ,  9.2464905,  9.400421 ],\n",
       "             mask=False,\n",
       "       fill_value=1e+20,\n",
       "            dtype=float32)"
      ]
     },
     "execution_count": 14,
     "metadata": {},
     "output_type": "execute_result"
    }
   ],
   "source": [
    "data"
   ]
  },
  {
   "cell_type": "code",
   "execution_count": 16,
   "id": "legal-president",
   "metadata": {},
   "outputs": [
    {
     "data": {
      "text/plain": [
       "[<matplotlib.lines.Line2D at 0x7f3e139d2be0>]"
      ]
     },
     "execution_count": 16,
     "metadata": {},
     "output_type": "execute_result"
    },
    {
     "data": {
      "image/png": "[encoded data removed]",
      "text/plain": [
       "<Figure size 432x288 with 1 Axes>"
      ]
     },
     "metadata": {
      "needs_background": "light"
     },
     "output_type": "display_data"
    }
   ],
   "source": [
    "plt.plot(time, data)"
   ]
  },
  {
   "cell_type": "code",
   "execution_count": null,
   "id": "mobile-bubble",
   "metadata": {},
   "outputs": [],
   "source": [
    "Inkwilersee (2617002.613/1227451.51)\n",
    "Geistsee (2607370.15/1178902.085)\n",
    "Lenkerseeli (2600293.863/1144159.978)\n",
    "Stockseewli (2667894.5/1161377.8)\n",
    "Meiefallseeli (2611147.145/1159527.043)\n",
    "Oberes Bänzlauiseeli (2664831.514/1171638.313)\n",
    "Atzenholzerweiher (2743227.0/1262708)\n",
    "Bildweiher (27412167/1252253)\n",
    "Eselschwanzweiher (2763681/1259818)\n",
    "Gräppelensee (2740050/1230594)\n",
    "Stadtweiher Wil (2721308/1258669)\n",
    "Voralpsee (2746933.09/1224615.886)\n",
    "Lake Sempach (2654354.476/1221708.009)\n",
    "Ägerisee (2689570.43/1219647.544)\n",
    "Lake Sarnen (2659320.585/1190929.118)\n",
    "Lake Murten (2572868.971/1197781.3)"
   ]
  },
  {
   "cell_type": "code",
   "execution_count": null,
   "id": "downtown-wrestling",
   "metadata": {},
   "outputs": [],
   "source": [
    "{\n",
    " \"Inkwilersee\":[47.197, 7.674],\n",
    " \"Geistsee\":[46.763, 7.533],\n",
    " \"Lenkerseeli\":[46.451, 7.445]\n",
    " \"Stockseewli\":[46.598, 8.326],\n",
    " \"Meiefallseeli\":[46.584, 7.584],\n",
    " \"Oberes Banzlauiseeli\":[46.687, 8.280],\n",
    " \"Atzenholzerweiher\":[47.498, 9.334],\n",
    " \"Bildweiher\":[47.408, 9.305],\n",
    " \"Eselschwanzweiher\":[47.469, 9.615],\n",
    " \"Grappelensee\":[47.208, 9.279],\n",
    " \"Stadtweiher Wil\":[47.466, 9.053],\n",
    " \"Voralpsee\":[47.158, 9.382],\n",
    " \"Lake Sempach\":[47.145, 8.162],\n",
    " \"Agerisee\":[47.122, 8.618],\n",
    " \"Lake Sarnen\":[46.866, 8.215],\n",
    " \"Lake Murten\":[46.933, 7.085],\n",
    "}"
   ]
  },
  {
   "cell_type": "code",
   "execution_count": null,
   "id": "short-generator",
   "metadata": {},
   "outputs": [],
   "source": []
  }
 ],
 "metadata": {
  "kernelspec": {
   "display_name": "thetis",
   "language": "python",
   "name": "thetis"
  },
  "language_info": {
   "codemirror_mode": {
    "name": "ipython",
    "version": 3
   },
   "file_extension": ".py",
   "mimetype": "text/x-python",
   "name": "python",
   "nbconvert_exporter": "python",
   "pygments_lexer": "ipython3",
   "version": "3.7.3"
  }
 },
 "nbformat": 4,
 "nbformat_minor": 5
}
